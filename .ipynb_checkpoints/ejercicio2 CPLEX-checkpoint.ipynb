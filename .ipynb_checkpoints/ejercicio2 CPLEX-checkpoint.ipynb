{
 "cells": [
  {
   "cell_type": "markdown",
   "metadata": {},
   "source": [
    "# Problema de optimización de autobuses\n",
    "\n",
    "300 niños necesitan viajar al zoológico de Londres\n",
    "La escuela debe rentar autobuses con capacidad de 40 asientos y 30 asientos por us costo de $500 y $400 respectivamente.\n",
    "¿Cuántos autouses de cada uno debe rentar la escuela para minimizar el costo total de transporte?"
   ]
  },
  {
   "cell_type": "markdown",
   "metadata": {},
   "source": [
    "### Ecuaciones de optimización\n",
    "\n",
    "$$ 40x_1 + 30x_2 >= 300 $$\n",
    "$$ minC = 500x_1 + 400x_2$$\n",
    "\n",
    "donde $x_1$ es el número de autobuses de 40 asientos\n",
    "y $x_2$ es el número de autobuses de 30 asientos"
   ]
  },
  {
   "cell_type": "code",
   "execution_count": 1,
   "metadata": {},
   "outputs": [],
   "source": [
    "from docplex.mp.model import Model\n",
    "from docplex.mp.context import Context"
   ]
  },
  {
   "cell_type": "code",
   "execution_count": 3,
   "metadata": {},
   "outputs": [],
   "source": [
    "mdl=Model(name='autobuses')"
   ]
  },
  {
   "cell_type": "code",
   "execution_count": 4,
   "metadata": {},
   "outputs": [],
   "source": [
    "x1 = mdl.integer_var(name='x1')\n",
    "x2 = mdl.integer_var(name='x2')"
   ]
  },
  {
   "cell_type": "code",
   "execution_count": 6,
   "metadata": {},
   "outputs": [
    {
     "data": {
      "text/plain": [
       "docplex.mp.LinearConstraint[niños](40x1+30x2,GE,300)"
      ]
     },
     "execution_count": 6,
     "metadata": {},
     "output_type": "execute_result"
    }
   ],
   "source": [
    "mdl.add_constraint(x1*40 + x2*30 >= 300, 'niños')"
   ]
  },
  {
   "cell_type": "code",
   "execution_count": 7,
   "metadata": {},
   "outputs": [],
   "source": [
    "mdl.minimize(x1*500 + x2*400)"
   ]
  },
  {
   "cell_type": "code",
   "execution_count": 8,
   "metadata": {},
   "outputs": [
    {
     "data": {
      "text/plain": [
       "docplex.mp.solution.SolveSolution(obj=3800,values={x1:6,x2:2})"
      ]
     },
     "execution_count": 8,
     "metadata": {},
     "output_type": "execute_result"
    }
   ],
   "source": [
    "mdl.solve()"
   ]
  },
  {
   "cell_type": "code",
   "execution_count": 12,
   "metadata": {},
   "outputs": [
    {
     "name": "stdout",
     "output_type": "stream",
     "text": [
      "número de autobuses con 40 asientos:  6.0\n",
      "número de autobuses con 30 asientos:  2.0\n"
     ]
    }
   ],
   "source": [
    "\n",
    "print('número de autobuses con 40 asientos: ',  x1.solution_value)\n",
    "print('número de autobuses con 30 asientos: ', x2.solution_value)"
   ]
  },
  {
   "cell_type": "code",
   "execution_count": null,
   "metadata": {},
   "outputs": [],
   "source": []
  }
 ],
 "metadata": {
  "kernelspec": {
   "display_name": "Python 3",
   "language": "python",
   "name": "python3"
  },
  "language_info": {
   "codemirror_mode": {
    "name": "ipython",
    "version": 3
   },
   "file_extension": ".py",
   "mimetype": "text/x-python",
   "name": "python",
   "nbconvert_exporter": "python",
   "pygments_lexer": "ipython3",
   "version": "3.7.4"
  }
 },
 "nbformat": 4,
 "nbformat_minor": 2
}
